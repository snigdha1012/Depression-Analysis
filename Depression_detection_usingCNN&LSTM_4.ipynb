{
  "nbformat": 4,
  "nbformat_minor": 0,
  "metadata": {
    "colab": {
      "provenance": []
    },
    "kernelspec": {
      "name": "python3",
      "display_name": "Python 3"
    },
    "language_info": {
      "name": "python"
    }
  },
  "cells": [
    {
      "cell_type": "markdown",
      "source": [
        "## **Importing all the modules**"
      ],
      "metadata": {
        "id": "Cofz7WN5ZyDC"
      }
    },
    {
      "cell_type": "code",
      "source": [
        "import warnings\n",
        "warnings.filterwarnings(\"ignore\")\n",
        "import ftfy\n",
        "import matplotlib.pyplot as plt\n",
        "import nltk\n",
        "import numpy as np\n",
        "import pandas as pd\n",
        "import re\n",
        "import tensorflow \n",
        "from math import exp\n",
        "from numpy import sign\n",
        "from sklearn.metrics import  classification_report, confusion_matrix, accuracy_score\n",
        "from gensim.models import KeyedVectors #used for word2vec \n",
        "from nltk.corpus import stopwords\n",
        "from nltk import PorterStemmer\n",
        "from keras.models import Model, Sequential\n",
        "from keras.callbacks import EarlyStopping, ModelCheckpoint\n",
        "from keras.layers import Conv1D, Dense, Input, LSTM, Embedding, Dropout, Activation, MaxPooling1D\n",
        "from keras.preprocessing.text import Tokenizer\n",
        "from keras_preprocessing.sequence import pad_sequences"
      ],
      "metadata": {
        "id": "Q8yTG3xKVwfC"
      },
      "execution_count": 4,
      "outputs": []
    },
    {
      "cell_type": "markdown",
      "source": [
        "**Declaring the Constants**"
      ],
      "metadata": {
        "id": "Mc4UlO12Zv8G"
      }
    },
    {
      "cell_type": "code",
      "source": [
        "np.random.seed(1234)\n",
        "DEPRES_NROWS = 3200  # number of rows to read from DEPRESSIVE_TWEETS CSV\n",
        "RANDOM_NROWS = 12000 # number of rows to read from RANDOM_TWEETS CSV\n",
        "MAX_SEQUENCE_LENGTH = 140 # Maximum tweet size\n",
        "MAX_NB_WORDS = 20000 #Maximum number of words to consider as feature for tokenizer\n",
        "EMBEDDING_DIM = 300 #Size of the embedding vector (GoogleNews-vectors-negative300.bin)\n",
        "TRAIN_SPLIT = 0.6 \n",
        "TEST_SPLIT = 0.2\n",
        "LEARNING_RATE = 0.1 #eta(n)\n",
        "EPOCHS= 10"
      ],
      "metadata": {
        "id": "UlE0Bg7XaOCs"
      },
      "execution_count": 5,
      "outputs": []
    },
    {
      "cell_type": "markdown",
      "source": [
        "**Loading the datasets**"
      ],
      "metadata": {
        "id": "Ut4oJzmqbqtk"
      }
    },
    {
      "cell_type": "code",
      "source": [
        "from google.colab import drive\n",
        "drive.mount('/content/drive')"
      ],
      "metadata": {
        "colab": {
          "base_uri": "https://localhost:8080/"
        },
        "id": "xy2h55KJ0gtq",
        "outputId": "90c081d9-eb44-4173-8c94-17eaddbe8ec2"
      },
      "execution_count": 9,
      "outputs": [
        {
          "output_type": "stream",
          "name": "stdout",
          "text": [
            "Mounted at /content/drive\n"
          ]
        }
      ]
    },
    {
      "cell_type": "markdown",
      "source": [
        "Tweets dataset"
      ],
      "metadata": {
        "id": "49_u1PVZmQdE"
      }
    },
    {
      "cell_type": "code",
      "source": [
        "RANDOM_TWEETS_CSV='/content/drive/MyDrive/Sentiment Analysis Dataset 2.csv' #All tweets\n",
        "DEPRESSIVE_TWEETS_CSV='/content/drive/MyDrive/depressive_tweets_processed.csv' #Tweets that are indicative of depression scrapped from Twitter using Twint"
      ],
      "metadata": {
        "id": "DggzdPnlaTKq"
      },
      "execution_count": 10,
      "outputs": []
    },
    {
      "cell_type": "markdown",
      "source": [
        "Keyed Vectors needed for Word2Vec"
      ],
      "metadata": {
        "id": "2rGFxxMImTiz"
      }
    },
    {
      "cell_type": "code",
      "source": [
        "EMBEDDING_FILE = '/content/drive/MyDrive/GoogleNews-vectors-negative300.bin.gz'"
      ],
      "metadata": {
        "id": "fKec82x-mOr6"
      },
      "execution_count": 11,
      "outputs": []
    },
    {
      "cell_type": "markdown",
      "source": [
        "Reading the files into dataframes and displaying "
      ],
      "metadata": {
        "id": "QrB6EHDHnOFZ"
      }
    },
    {
      "cell_type": "code",
      "source": [
        "depressive_tweets_df = pd.read_csv(DEPRESSIVE_TWEETS_CSV, sep = '|', header = None, usecols = range(0,9), nrows = DEPRES_NROWS)\n",
        "random_tweets_df = pd.read_csv(RANDOM_TWEETS_CSV, encoding = \"ISO-8859-1\", usecols = range(0,4), nrows = RANDOM_NROWS)\n",
        "depressive_tweets_df.head()"
      ],
      "metadata": {
        "colab": {
          "base_uri": "https://localhost:8080/",
          "height": 206
        },
        "id": "1eoLI1s1nEI7",
        "outputId": "ef4fec22-d7ac-49e1-915e-a9be57bea5d4"
      },
      "execution_count": 12,
      "outputs": [
        {
          "output_type": "execute_result",
          "data": {
            "text/plain": [
              "                    0           1         2                      3  \\\n",
              "0  989292962323615744  2018-04-25  23:59:57  Eastern Standard Time   \n",
              "1  989292959844663296  2018-04-25  23:59:56  Eastern Standard Time   \n",
              "2  989292951716155392  2018-04-25  23:59:54  Eastern Standard Time   \n",
              "3  989292873664393218  2018-04-25  23:59:35  Eastern Standard Time   \n",
              "4  989292856119472128  2018-04-25  23:59:31  Eastern Standard Time   \n",
              "\n",
              "                 4                                                  5  6  7  8  \n",
              "0         whosalli  The lack of this understanding is a small but ...  1  0  3  \n",
              "1      estermnunes  i just told my parents about my depression and...  1  0  2  \n",
              "2    TheAlphaAries  depression is something i don't speak about ev...  0  0  0  \n",
              "3       _ojhodgson  Made myself a tortilla filled with pb&j. My de...  1  0  0  \n",
              "4  DMiller96371630  @WorldofOutlaws I am gonna need depression med...  0  0  0  "
            ],
            "text/html": [
              "\n",
              "  <div id=\"df-5c67fc5e-c757-49c3-b3f2-f6a451bc40ee\">\n",
              "    <div class=\"colab-df-container\">\n",
              "      <div>\n",
              "<style scoped>\n",
              "    .dataframe tbody tr th:only-of-type {\n",
              "        vertical-align: middle;\n",
              "    }\n",
              "\n",
              "    .dataframe tbody tr th {\n",
              "        vertical-align: top;\n",
              "    }\n",
              "\n",
              "    .dataframe thead th {\n",
              "        text-align: right;\n",
              "    }\n",
              "</style>\n",
              "<table border=\"1\" class=\"dataframe\">\n",
              "  <thead>\n",
              "    <tr style=\"text-align: right;\">\n",
              "      <th></th>\n",
              "      <th>0</th>\n",
              "      <th>1</th>\n",
              "      <th>2</th>\n",
              "      <th>3</th>\n",
              "      <th>4</th>\n",
              "      <th>5</th>\n",
              "      <th>6</th>\n",
              "      <th>7</th>\n",
              "      <th>8</th>\n",
              "    </tr>\n",
              "  </thead>\n",
              "  <tbody>\n",
              "    <tr>\n",
              "      <th>0</th>\n",
              "      <td>989292962323615744</td>\n",
              "      <td>2018-04-25</td>\n",
              "      <td>23:59:57</td>\n",
              "      <td>Eastern Standard Time</td>\n",
              "      <td>whosalli</td>\n",
              "      <td>The lack of this understanding is a small but ...</td>\n",
              "      <td>1</td>\n",
              "      <td>0</td>\n",
              "      <td>3</td>\n",
              "    </tr>\n",
              "    <tr>\n",
              "      <th>1</th>\n",
              "      <td>989292959844663296</td>\n",
              "      <td>2018-04-25</td>\n",
              "      <td>23:59:56</td>\n",
              "      <td>Eastern Standard Time</td>\n",
              "      <td>estermnunes</td>\n",
              "      <td>i just told my parents about my depression and...</td>\n",
              "      <td>1</td>\n",
              "      <td>0</td>\n",
              "      <td>2</td>\n",
              "    </tr>\n",
              "    <tr>\n",
              "      <th>2</th>\n",
              "      <td>989292951716155392</td>\n",
              "      <td>2018-04-25</td>\n",
              "      <td>23:59:54</td>\n",
              "      <td>Eastern Standard Time</td>\n",
              "      <td>TheAlphaAries</td>\n",
              "      <td>depression is something i don't speak about ev...</td>\n",
              "      <td>0</td>\n",
              "      <td>0</td>\n",
              "      <td>0</td>\n",
              "    </tr>\n",
              "    <tr>\n",
              "      <th>3</th>\n",
              "      <td>989292873664393218</td>\n",
              "      <td>2018-04-25</td>\n",
              "      <td>23:59:35</td>\n",
              "      <td>Eastern Standard Time</td>\n",
              "      <td>_ojhodgson</td>\n",
              "      <td>Made myself a tortilla filled with pb&amp;j. My de...</td>\n",
              "      <td>1</td>\n",
              "      <td>0</td>\n",
              "      <td>0</td>\n",
              "    </tr>\n",
              "    <tr>\n",
              "      <th>4</th>\n",
              "      <td>989292856119472128</td>\n",
              "      <td>2018-04-25</td>\n",
              "      <td>23:59:31</td>\n",
              "      <td>Eastern Standard Time</td>\n",
              "      <td>DMiller96371630</td>\n",
              "      <td>@WorldofOutlaws I am gonna need depression med...</td>\n",
              "      <td>0</td>\n",
              "      <td>0</td>\n",
              "      <td>0</td>\n",
              "    </tr>\n",
              "  </tbody>\n",
              "</table>\n",
              "</div>\n",
              "      <button class=\"colab-df-convert\" onclick=\"convertToInteractive('df-5c67fc5e-c757-49c3-b3f2-f6a451bc40ee')\"\n",
              "              title=\"Convert this dataframe to an interactive table.\"\n",
              "              style=\"display:none;\">\n",
              "        \n",
              "  <svg xmlns=\"http://www.w3.org/2000/svg\" height=\"24px\"viewBox=\"0 0 24 24\"\n",
              "       width=\"24px\">\n",
              "    <path d=\"M0 0h24v24H0V0z\" fill=\"none\"/>\n",
              "    <path d=\"M18.56 5.44l.94 2.06.94-2.06 2.06-.94-2.06-.94-.94-2.06-.94 2.06-2.06.94zm-11 1L8.5 8.5l.94-2.06 2.06-.94-2.06-.94L8.5 2.5l-.94 2.06-2.06.94zm10 10l.94 2.06.94-2.06 2.06-.94-2.06-.94-.94-2.06-.94 2.06-2.06.94z\"/><path d=\"M17.41 7.96l-1.37-1.37c-.4-.4-.92-.59-1.43-.59-.52 0-1.04.2-1.43.59L10.3 9.45l-7.72 7.72c-.78.78-.78 2.05 0 2.83L4 21.41c.39.39.9.59 1.41.59.51 0 1.02-.2 1.41-.59l7.78-7.78 2.81-2.81c.8-.78.8-2.07 0-2.86zM5.41 20L4 18.59l7.72-7.72 1.47 1.35L5.41 20z\"/>\n",
              "  </svg>\n",
              "      </button>\n",
              "      \n",
              "  <style>\n",
              "    .colab-df-container {\n",
              "      display:flex;\n",
              "      flex-wrap:wrap;\n",
              "      gap: 12px;\n",
              "    }\n",
              "\n",
              "    .colab-df-convert {\n",
              "      background-color: #E8F0FE;\n",
              "      border: none;\n",
              "      border-radius: 50%;\n",
              "      cursor: pointer;\n",
              "      display: none;\n",
              "      fill: #1967D2;\n",
              "      height: 32px;\n",
              "      padding: 0 0 0 0;\n",
              "      width: 32px;\n",
              "    }\n",
              "\n",
              "    .colab-df-convert:hover {\n",
              "      background-color: #E2EBFA;\n",
              "      box-shadow: 0px 1px 2px rgba(60, 64, 67, 0.3), 0px 1px 3px 1px rgba(60, 64, 67, 0.15);\n",
              "      fill: #174EA6;\n",
              "    }\n",
              "\n",
              "    [theme=dark] .colab-df-convert {\n",
              "      background-color: #3B4455;\n",
              "      fill: #D2E3FC;\n",
              "    }\n",
              "\n",
              "    [theme=dark] .colab-df-convert:hover {\n",
              "      background-color: #434B5C;\n",
              "      box-shadow: 0px 1px 3px 1px rgba(0, 0, 0, 0.15);\n",
              "      filter: drop-shadow(0px 1px 2px rgba(0, 0, 0, 0.3));\n",
              "      fill: #FFFFFF;\n",
              "    }\n",
              "  </style>\n",
              "\n",
              "      <script>\n",
              "        const buttonEl =\n",
              "          document.querySelector('#df-5c67fc5e-c757-49c3-b3f2-f6a451bc40ee button.colab-df-convert');\n",
              "        buttonEl.style.display =\n",
              "          google.colab.kernel.accessAllowed ? 'block' : 'none';\n",
              "\n",
              "        async function convertToInteractive(key) {\n",
              "          const element = document.querySelector('#df-5c67fc5e-c757-49c3-b3f2-f6a451bc40ee');\n",
              "          const dataTable =\n",
              "            await google.colab.kernel.invokeFunction('convertToInteractive',\n",
              "                                                     [key], {});\n",
              "          if (!dataTable) return;\n",
              "\n",
              "          const docLinkHtml = 'Like what you see? Visit the ' +\n",
              "            '<a target=\"_blank\" href=https://colab.research.google.com/notebooks/data_table.ipynb>data table notebook</a>'\n",
              "            + ' to learn more about interactive tables.';\n",
              "          element.innerHTML = '';\n",
              "          dataTable['output_type'] = 'display_data';\n",
              "          await google.colab.output.renderOutput(dataTable, element);\n",
              "          const docLink = document.createElement('div');\n",
              "          docLink.innerHTML = docLinkHtml;\n",
              "          element.appendChild(docLink);\n",
              "        }\n",
              "      </script>\n",
              "    </div>\n",
              "  </div>\n",
              "  "
            ]
          },
          "metadata": {},
          "execution_count": 12
        }
      ]
    },
    {
      "cell_type": "code",
      "source": [
        "random_tweets_df.head()"
      ],
      "metadata": {
        "colab": {
          "base_uri": "https://localhost:8080/",
          "height": 206
        },
        "id": "5MA-zCQwnfF-",
        "outputId": "991970fc-5ad8-4349-f6b8-2c1bff685629"
      },
      "execution_count": 13,
      "outputs": [
        {
          "output_type": "execute_result",
          "data": {
            "text/plain": [
              "   ï»¿ItemID  Sentiment SentimentSource  \\\n",
              "0          1          0    Sentiment140   \n",
              "1          2          0    Sentiment140   \n",
              "2          3          1    Sentiment140   \n",
              "3          4          0    Sentiment140   \n",
              "4          5          0    Sentiment140   \n",
              "\n",
              "                                       SentimentText  \n",
              "0                       is so sad for my APL frie...  \n",
              "1                     I missed the New Moon trail...  \n",
              "2                            omg its already 7:30 :O  \n",
              "3            .. Omgaga. Im sooo  im gunna CRy. I'...  \n",
              "4           i think mi bf is cheating on me!!!   ...  "
            ],
            "text/html": [
              "\n",
              "  <div id=\"df-c4b30a62-3fc4-4a37-b95e-bd6b090ca598\">\n",
              "    <div class=\"colab-df-container\">\n",
              "      <div>\n",
              "<style scoped>\n",
              "    .dataframe tbody tr th:only-of-type {\n",
              "        vertical-align: middle;\n",
              "    }\n",
              "\n",
              "    .dataframe tbody tr th {\n",
              "        vertical-align: top;\n",
              "    }\n",
              "\n",
              "    .dataframe thead th {\n",
              "        text-align: right;\n",
              "    }\n",
              "</style>\n",
              "<table border=\"1\" class=\"dataframe\">\n",
              "  <thead>\n",
              "    <tr style=\"text-align: right;\">\n",
              "      <th></th>\n",
              "      <th>ï»¿ItemID</th>\n",
              "      <th>Sentiment</th>\n",
              "      <th>SentimentSource</th>\n",
              "      <th>SentimentText</th>\n",
              "    </tr>\n",
              "  </thead>\n",
              "  <tbody>\n",
              "    <tr>\n",
              "      <th>0</th>\n",
              "      <td>1</td>\n",
              "      <td>0</td>\n",
              "      <td>Sentiment140</td>\n",
              "      <td>is so sad for my APL frie...</td>\n",
              "    </tr>\n",
              "    <tr>\n",
              "      <th>1</th>\n",
              "      <td>2</td>\n",
              "      <td>0</td>\n",
              "      <td>Sentiment140</td>\n",
              "      <td>I missed the New Moon trail...</td>\n",
              "    </tr>\n",
              "    <tr>\n",
              "      <th>2</th>\n",
              "      <td>3</td>\n",
              "      <td>1</td>\n",
              "      <td>Sentiment140</td>\n",
              "      <td>omg its already 7:30 :O</td>\n",
              "    </tr>\n",
              "    <tr>\n",
              "      <th>3</th>\n",
              "      <td>4</td>\n",
              "      <td>0</td>\n",
              "      <td>Sentiment140</td>\n",
              "      <td>.. Omgaga. Im sooo  im gunna CRy. I'...</td>\n",
              "    </tr>\n",
              "    <tr>\n",
              "      <th>4</th>\n",
              "      <td>5</td>\n",
              "      <td>0</td>\n",
              "      <td>Sentiment140</td>\n",
              "      <td>i think mi bf is cheating on me!!!   ...</td>\n",
              "    </tr>\n",
              "  </tbody>\n",
              "</table>\n",
              "</div>\n",
              "      <button class=\"colab-df-convert\" onclick=\"convertToInteractive('df-c4b30a62-3fc4-4a37-b95e-bd6b090ca598')\"\n",
              "              title=\"Convert this dataframe to an interactive table.\"\n",
              "              style=\"display:none;\">\n",
              "        \n",
              "  <svg xmlns=\"http://www.w3.org/2000/svg\" height=\"24px\"viewBox=\"0 0 24 24\"\n",
              "       width=\"24px\">\n",
              "    <path d=\"M0 0h24v24H0V0z\" fill=\"none\"/>\n",
              "    <path d=\"M18.56 5.44l.94 2.06.94-2.06 2.06-.94-2.06-.94-.94-2.06-.94 2.06-2.06.94zm-11 1L8.5 8.5l.94-2.06 2.06-.94-2.06-.94L8.5 2.5l-.94 2.06-2.06.94zm10 10l.94 2.06.94-2.06 2.06-.94-2.06-.94-.94-2.06-.94 2.06-2.06.94z\"/><path d=\"M17.41 7.96l-1.37-1.37c-.4-.4-.92-.59-1.43-.59-.52 0-1.04.2-1.43.59L10.3 9.45l-7.72 7.72c-.78.78-.78 2.05 0 2.83L4 21.41c.39.39.9.59 1.41.59.51 0 1.02-.2 1.41-.59l7.78-7.78 2.81-2.81c.8-.78.8-2.07 0-2.86zM5.41 20L4 18.59l7.72-7.72 1.47 1.35L5.41 20z\"/>\n",
              "  </svg>\n",
              "      </button>\n",
              "      \n",
              "  <style>\n",
              "    .colab-df-container {\n",
              "      display:flex;\n",
              "      flex-wrap:wrap;\n",
              "      gap: 12px;\n",
              "    }\n",
              "\n",
              "    .colab-df-convert {\n",
              "      background-color: #E8F0FE;\n",
              "      border: none;\n",
              "      border-radius: 50%;\n",
              "      cursor: pointer;\n",
              "      display: none;\n",
              "      fill: #1967D2;\n",
              "      height: 32px;\n",
              "      padding: 0 0 0 0;\n",
              "      width: 32px;\n",
              "    }\n",
              "\n",
              "    .colab-df-convert:hover {\n",
              "      background-color: #E2EBFA;\n",
              "      box-shadow: 0px 1px 2px rgba(60, 64, 67, 0.3), 0px 1px 3px 1px rgba(60, 64, 67, 0.15);\n",
              "      fill: #174EA6;\n",
              "    }\n",
              "\n",
              "    [theme=dark] .colab-df-convert {\n",
              "      background-color: #3B4455;\n",
              "      fill: #D2E3FC;\n",
              "    }\n",
              "\n",
              "    [theme=dark] .colab-df-convert:hover {\n",
              "      background-color: #434B5C;\n",
              "      box-shadow: 0px 1px 3px 1px rgba(0, 0, 0, 0.15);\n",
              "      filter: drop-shadow(0px 1px 2px rgba(0, 0, 0, 0.3));\n",
              "      fill: #FFFFFF;\n",
              "    }\n",
              "  </style>\n",
              "\n",
              "      <script>\n",
              "        const buttonEl =\n",
              "          document.querySelector('#df-c4b30a62-3fc4-4a37-b95e-bd6b090ca598 button.colab-df-convert');\n",
              "        buttonEl.style.display =\n",
              "          google.colab.kernel.accessAllowed ? 'block' : 'none';\n",
              "\n",
              "        async function convertToInteractive(key) {\n",
              "          const element = document.querySelector('#df-c4b30a62-3fc4-4a37-b95e-bd6b090ca598');\n",
              "          const dataTable =\n",
              "            await google.colab.kernel.invokeFunction('convertToInteractive',\n",
              "                                                     [key], {});\n",
              "          if (!dataTable) return;\n",
              "\n",
              "          const docLinkHtml = 'Like what you see? Visit the ' +\n",
              "            '<a target=\"_blank\" href=https://colab.research.google.com/notebooks/data_table.ipynb>data table notebook</a>'\n",
              "            + ' to learn more about interactive tables.';\n",
              "          element.innerHTML = '';\n",
              "          dataTable['output_type'] = 'display_data';\n",
              "          await google.colab.output.renderOutput(dataTable, element);\n",
              "          const docLink = document.createElement('div');\n",
              "          docLink.innerHTML = docLinkHtml;\n",
              "          element.appendChild(docLink);\n",
              "        }\n",
              "      </script>\n",
              "    </div>\n",
              "  </div>\n",
              "  "
            ]
          },
          "metadata": {},
          "execution_count": 13
        }
      ]
    },
    {
      "cell_type": "markdown",
      "source": [
        "**Preprocessing** \n",
        "\n",
        "Done to remove any links,images,mentions,emojis,punctuations,expand contractions like Won't to will not, stem words so they are all the same tense "
      ],
      "metadata": {
        "id": "rM9jpcz_643_"
      }
    },
    {
      "cell_type": "code",
      "source": [
        "#dictionary that contains the key:value pairs as the contraction:word\n",
        "cList = {\n",
        "  \"ain't\": \"am not\",\n",
        "  \"aren't\": \"are not\",\n",
        "  \"can't\": \"cannot\",\n",
        "  \"can't've\": \"cannot have\",\n",
        "  \"'cause\": \"because\",\n",
        "  \"could've\": \"could have\",\n",
        "  \"couldn't\": \"could not\",\n",
        "  \"couldn't've\": \"could not have\",\n",
        "  \"didn't\": \"did not\",\n",
        "  \"doesn't\": \"does not\",\n",
        "  \"don't\": \"do not\",\n",
        "  \"hadn't\": \"had not\",\n",
        "  \"hadn't've\": \"had not have\",\n",
        "  \"hasn't\": \"has not\",\n",
        "  \"haven't\": \"have not\",\n",
        "  \"he'd\": \"he would\",\n",
        "  \"he'd've\": \"he would have\",\n",
        "  \"he'll\": \"he will\",\n",
        "  \"he'll've\": \"he will have\",\n",
        "  \"he's\": \"he is\",\n",
        "  \"how'd\": \"how did\",\n",
        "  \"how'd'y\": \"how do you\",\n",
        "  \"how'll\": \"how will\",\n",
        "  \"how's\": \"how is\",\n",
        "  \"I'd\": \"I would\",\n",
        "  \"I'd've\": \"I would have\",\n",
        "  \"I'll\": \"I will\",\n",
        "  \"I'll've\": \"I will have\",\n",
        "  \"I'm\": \"I am\",\n",
        "  \"I've\": \"I have\",\n",
        "  \"isn't\": \"is not\",\n",
        "  \"it'd\": \"it had\",\n",
        "  \"it'd've\": \"it would have\",\n",
        "  \"it'll\": \"it will\",\n",
        "  \"it'll've\": \"it will have\",\n",
        "  \"it's\": \"it is\",\n",
        "  \"let's\": \"let us\",\n",
        "  \"ma'am\": \"madam\",\n",
        "  \"mayn't\": \"may not\",\n",
        "  \"might've\": \"might have\",\n",
        "  \"mightn't\": \"might not\",\n",
        "  \"mightn't've\": \"might not have\",\n",
        "  \"must've\": \"must have\",\n",
        "  \"mustn't\": \"must not\",\n",
        "  \"mustn't've\": \"must not have\",\n",
        "  \"needn't\": \"need not\",\n",
        "  \"needn't've\": \"need not have\",\n",
        "  \"o'clock\": \"of the clock\",\n",
        "  \"oughtn't\": \"ought not\",\n",
        "  \"oughtn't've\": \"ought not have\",\n",
        "  \"shan't\": \"shall not\",\n",
        "  \"sha'n't\": \"shall not\",\n",
        "  \"shan't've\": \"shall not have\",\n",
        "  \"she'd\": \"she would\",\n",
        "  \"she'd've\": \"she would have\",\n",
        "  \"she'll\": \"she will\",\n",
        "  \"she'll've\": \"she will have\",\n",
        "  \"she's\": \"she is\",\n",
        "  \"should've\": \"should have\",\n",
        "  \"shouldn't\": \"should not\",\n",
        "  \"shouldn't've\": \"should not have\",\n",
        "  \"so've\": \"so have\",\n",
        "  \"so's\": \"so is\",\n",
        "  \"that'd\": \"that would\",\n",
        "  \"that'd've\": \"that would have\",\n",
        "  \"that's\": \"that is\",\n",
        "  \"there'd\": \"there had\",\n",
        "  \"there'd've\": \"there would have\",\n",
        "  \"there's\": \"there is\",\n",
        "  \"they'd\": \"they would\",\n",
        "  \"they'd've\": \"they would have\",\n",
        "  \"they'll\": \"they will\",\n",
        "  \"they'll've\": \"they will have\",\n",
        "  \"they're\": \"they are\",\n",
        "  \"they've\": \"they have\",\n",
        "  \"to've\": \"to have\",\n",
        "  \"wasn't\": \"was not\",\n",
        "  \"we'd\": \"we had\",\n",
        "  \"we'd've\": \"we would have\",\n",
        "  \"we'll\": \"we will\",\n",
        "  \"we'll've\": \"we will have\",\n",
        "  \"we're\": \"we are\",\n",
        "  \"we've\": \"we have\",\n",
        "  \"weren't\": \"were not\",\n",
        "  \"what'll\": \"what will\",\n",
        "  \"what'll've\": \"what will have\",\n",
        "  \"what're\": \"what are\",\n",
        "  \"what's\": \"what is\",\n",
        "  \"what've\": \"what have\",\n",
        "  \"when's\": \"when is\",\n",
        "  \"when've\": \"when have\",\n",
        "  \"where'd\": \"where did\",\n",
        "  \"where's\": \"where is\",\n",
        "  \"where've\": \"where have\",\n",
        "  \"who'll\": \"who will\",\n",
        "  \"who'll've\": \"who will have\",\n",
        "  \"who's\": \"who is\",\n",
        "  \"who've\": \"who have\",\n",
        "  \"why's\": \"why is\",\n",
        "  \"why've\": \"why have\",\n",
        "  \"will've\": \"will have\",\n",
        "  \"won't\": \"will not\",\n",
        "  \"won't've\": \"will not have\",\n",
        "  \"would've\": \"would have\",\n",
        "  \"wouldn't\": \"would not\",\n",
        "  \"wouldn't've\": \"would not have\",\n",
        "  \"y'all\": \"you all\",\n",
        "  \"y'alls\": \"you alls\",\n",
        "  \"y'all'd\": \"you all would\",\n",
        "  \"y'all'd've\": \"you all would have\",\n",
        "  \"y'all're\": \"you all are\",\n",
        "  \"y'all've\": \"you all have\",\n",
        "  \"you'd\": \"you had\",\n",
        "  \"you'd've\": \"you would have\",\n",
        "  \"you'll\": \"you you will\",\n",
        "  \"you'll've\": \"you you will have\",\n",
        "  \"you're\": \"you are\",\n",
        "  \"you've\": \"you have\"\n",
        "}\n",
        "\n",
        "c_re = re.compile('(%s)' % '|'.join(cList.keys()))\n",
        "#function to replace all the contractions with the corresponding words\n",
        "def expandContractions(text, c_re=c_re):\n",
        "    def replace(match):\n",
        "        return cList[match.group(0)]\n",
        "    return c_re.sub(replace, text)"
      ],
      "metadata": {
        "id": "dVWKPrtCp4w3"
      },
      "execution_count": 14,
      "outputs": []
    },
    {
      "cell_type": "markdown",
      "source": [
        "**Cleaning the dataset**"
      ],
      "metadata": {
        "id": "EzXJUPl88p3e"
      }
    },
    {
      "cell_type": "code",
      "source": [
        "def clean_tweets(tweets):\n",
        "    cleaned_tweets = []\n",
        "    for tweet in tweets:\n",
        "        tweet = str(tweet)\n",
        "        # url links are avoided as most are news articles\n",
        "        if re.match(\"(\\w+:\\/\\/\\S+)\", tweet) == None and len(tweet) > 10:  # tweet length is checked against the length of \"depression\" i.e.10\n",
        "            #below line removes hashtags, mentions, emojis and image URLs\n",
        "            tweet = ' '.join(re.sub(\"(@[A-Za-z0-9]+)|(\\#[A-Za-z0-9]+)|(<Emoji:.*>)|(pic\\.twitter\\.com\\/.*)\", \" \", tweet).split())\n",
        "            tweet = ftfy.fix_text(tweet)\n",
        "            tweet = expandContractions(tweet)\n",
        "            #below code is used to remove punctuations\n",
        "            tweet = ' '.join(re.sub(\"([^0-9A-Za-z \\t])\", \" \", tweet).split())\n",
        "\n",
        "            #below code is used to remove common stop words like articles,prepositions,conjunctions and pronouns\n",
        "            stop_words = set(stopwords.words('english')) #using the natural language toolkit\n",
        "            word_tokens = nltk.word_tokenize(tweet)  #breaking the raw tweets into smaller chunks \n",
        "            filtered_sentence = [w for w in word_tokens if not w in stop_words]\n",
        "            tweet = ' '.join(filtered_sentence)\n",
        "            #stemming words\n",
        "            tweet = PorterStemmer().stem(tweet)\n",
        "            cleaned_tweets.append(tweet)\n",
        "    return cleaned_tweets"
      ],
      "metadata": {
        "id": "0aI6Z6WCp_hS"
      },
      "execution_count": 15,
      "outputs": []
    },
    {
      "cell_type": "code",
      "source": [
        "nltk.download('stopwords')\n",
        "nltk.download('punkt')"
      ],
      "metadata": {
        "colab": {
          "base_uri": "https://localhost:8080/"
        },
        "id": "xMfP1Um8qZ3C",
        "outputId": "926e6442-8ba7-4088-c018-c441749f9002"
      },
      "execution_count": 16,
      "outputs": [
        {
          "output_type": "stream",
          "name": "stderr",
          "text": [
            "[nltk_data] Downloading package stopwords to /root/nltk_data...\n",
            "[nltk_data]   Unzipping corpora/stopwords.zip.\n",
            "[nltk_data] Downloading package punkt to /root/nltk_data...\n",
            "[nltk_data]   Unzipping tokenizers/punkt.zip.\n"
          ]
        },
        {
          "output_type": "execute_result",
          "data": {
            "text/plain": [
              "True"
            ]
          },
          "metadata": {},
          "execution_count": 16
        }
      ]
    },
    {
      "cell_type": "code",
      "source": [
        "#sending each dataitem of the 2 datasets into the preprocessing clean function\n",
        "depressive_tweets_arr = [x for x in depressive_tweets_df[5]]\n",
        "random_tweets_arr = [x for x in random_tweets_df['SentimentText']]\n",
        "X_d = clean_tweets(depressive_tweets_arr) \n",
        "X_r = clean_tweets(random_tweets_arr)"
      ],
      "metadata": {
        "id": "sDSFkYKGqJyL"
      },
      "execution_count": 17,
      "outputs": []
    },
    {
      "cell_type": "code",
      "source": [
        "tokenizer = Tokenizer(num_words=MAX_NB_WORDS) #breaks the raw text into tokens to understand the context\n",
        "tokenizer.fit_on_texts(X_d + X_r)"
      ],
      "metadata": {
        "id": "CRSf5whPqulV"
      },
      "execution_count": 18,
      "outputs": []
    },
    {
      "cell_type": "code",
      "source": [
        "#transforming the texts into sequences of integers\n",
        "sequences_d = tokenizer.texts_to_sequences(X_d) \n",
        "sequences_r = tokenizer.texts_to_sequences(X_r)"
      ],
      "metadata": {
        "id": "U6tLPauHqyPW"
      },
      "execution_count": 19,
      "outputs": []
    },
    {
      "cell_type": "code",
      "source": [
        "word_index = tokenizer.word_index\n",
        "print('Found %s unique tokens' % len(word_index))"
      ],
      "metadata": {
        "colab": {
          "base_uri": "https://localhost:8080/"
        },
        "id": "wic_2EHpq27N",
        "outputId": "5e9c79c8-a5e6-4ac9-dc64-8dd1e0ae23b0"
      },
      "execution_count": 20,
      "outputs": [
        {
          "output_type": "stream",
          "name": "stdout",
          "text": [
            "Found 21548 unique tokens\n"
          ]
        }
      ]
    },
    {
      "cell_type": "code",
      "source": [
        "data_d = pad_sequences(sequences_d, maxlen=MAX_SEQUENCE_LENGTH)\n",
        "data_r = pad_sequences(sequences_r, maxlen=MAX_SEQUENCE_LENGTH)\n",
        "print('Shape of data_d tensor:', data_d.shape)\n",
        "print('Shape of data_r tensor:', data_r.shape)"
      ],
      "metadata": {
        "colab": {
          "base_uri": "https://localhost:8080/"
        },
        "id": "UmwG5Jqdq-MM",
        "outputId": "4d0c0e5f-44e0-4d12-c88f-ef34d198ed67"
      },
      "execution_count": 21,
      "outputs": [
        {
          "output_type": "stream",
          "name": "stdout",
          "text": [
            "Shape of data_d tensor: (2308, 140)\n",
            "Shape of data_r tensor: (11911, 140)\n"
          ]
        }
      ]
    },
    {
      "cell_type": "code",
      "source": [
        "word2vec = KeyedVectors.load_word2vec_format(EMBEDDING_FILE, binary=True) #detects synonymous words"
      ],
      "metadata": {
        "id": "-boh6yDqwp__"
      },
      "execution_count": 22,
      "outputs": []
    },
    {
      "cell_type": "code",
      "source": [
        "nb_words = min(MAX_NB_WORDS, len(word_index))\n",
        "embedding_matrix = np.zeros((nb_words, EMBEDDING_DIM))\n",
        "for (word, idx) in word_index.items():\n",
        "    if word in word2vec.vocab and idx < MAX_NB_WORDS:\n",
        "        embedding_matrix[idx] = word2vec.word_vec(word)"
      ],
      "metadata": {
        "id": "3-FB9kbCxrHk"
      },
      "execution_count": 23,
      "outputs": []
    },
    {
      "cell_type": "code",
      "source": [
        "# Assigning labels to the depressive tweets and random tweets data\n",
        "labels_d = np.array([1] * DEPRES_NROWS)\n",
        "labels_r = np.array([0] * RANDOM_NROWS)\n",
        "\n",
        "#Arrays are split into test data (60%), validation data (20%), and train data (20%)\n",
        "perm_d = np.random.permutation(len(data_d))\n",
        "idx_train_d = perm_d[:int(len(data_d)*(TRAIN_SPLIT))]\n",
        "idx_test_d = perm_d[int(len(data_d)*(TRAIN_SPLIT)):int(len(data_d)*(TRAIN_SPLIT+TEST_SPLIT))]\n",
        "idx_val_d = perm_d[int(len(data_d)*(TRAIN_SPLIT+TEST_SPLIT)):]\n",
        "perm_r = np.random.permutation(len(data_r))\n",
        "idx_train_r = perm_r[:int(len(data_r)*(TRAIN_SPLIT))]\n",
        "idx_test_r = perm_r[int(len(data_r)*(TRAIN_SPLIT)):int(len(data_r)*(TRAIN_SPLIT+TEST_SPLIT))]\n",
        "idx_val_r = perm_r[int(len(data_r)*(TRAIN_SPLIT+TEST_SPLIT)):]\n",
        "\n",
        "# Combining the 2 arrays and generating random permutations for shuffling\n",
        "data_train = np.concatenate((data_d[idx_train_d], data_r[idx_train_r]))\n",
        "labels_train = np.concatenate((labels_d[idx_train_d], labels_r[idx_train_r]))\n",
        "data_test = np.concatenate((data_d[idx_test_d], data_r[idx_test_r]))\n",
        "labels_test = np.concatenate((labels_d[idx_test_d], labels_r[idx_test_r]))\n",
        "data_val = np.concatenate((data_d[idx_val_d], data_r[idx_val_r]))\n",
        "labels_val = np.concatenate((labels_d[idx_val_d], labels_r[idx_val_r]))\n",
        "perm_train = np.random.permutation(len(data_train))\n",
        "data_train = data_train[perm_train]\n",
        "labels_train = labels_train[perm_train]\n",
        "perm_test = np.random.permutation(len(data_test))\n",
        "data_test = data_test[perm_test]\n",
        "labels_test = labels_test[perm_test]\n",
        "perm_val = np.random.permutation(len(data_val))\n",
        "data_val = data_val[perm_val]\n",
        "labels_val = labels_val[perm_val]"
      ],
      "metadata": {
        "id": "IIPtZHpHxxkV"
      },
      "execution_count": 24,
      "outputs": []
    },
    {
      "cell_type": "markdown",
      "source": [
        "**Defining the hyperparameters of the model**"
      ],
      "metadata": {
        "id": "nYkrjqMsAJlC"
      }
    },
    {
      "cell_type": "code",
      "source": [
        "model = Sequential()\n",
        "# Embedded layer\n",
        "model.add(Embedding(len(embedding_matrix), EMBEDDING_DIM, weights=[embedding_matrix], \n",
        "                            input_length=MAX_SEQUENCE_LENGTH, trainable=False))\n",
        "# Convolutional Layer\n",
        "model.add(Conv1D(filters=32, kernel_size=3, padding='same', activation='relu'))\n",
        "model.add(MaxPooling1D(pool_size=2))\n",
        "model.add(Dropout(0.2))\n",
        "# LSTM Layer\n",
        "model.add(LSTM(300))\n",
        "model.add(Dropout(0.2))\n",
        "model.add(Dense(1, activation='sigmoid'))"
      ],
      "metadata": {
        "id": "DKHpNSSfx3vh"
      },
      "execution_count": 25,
      "outputs": []
    },
    {
      "cell_type": "code",
      "source": [
        "model.compile(loss='binary_crossentropy', optimizer='nadam', metrics=['acc'])\n",
        "print(model.summary())"
      ],
      "metadata": {
        "colab": {
          "base_uri": "https://localhost:8080/"
        },
        "id": "FY_kUmQ2x9vF",
        "outputId": "412c35dd-6c87-4c39-8199-b0c217441843"
      },
      "execution_count": 26,
      "outputs": [
        {
          "output_type": "stream",
          "name": "stdout",
          "text": [
            "Model: \"sequential\"\n",
            "_________________________________________________________________\n",
            " Layer (type)                Output Shape              Param #   \n",
            "=================================================================\n",
            " embedding (Embedding)       (None, 140, 300)          6000000   \n",
            "                                                                 \n",
            " conv1d (Conv1D)             (None, 140, 32)           28832     \n",
            "                                                                 \n",
            " max_pooling1d (MaxPooling1D  (None, 70, 32)           0         \n",
            " )                                                               \n",
            "                                                                 \n",
            " dropout (Dropout)           (None, 70, 32)            0         \n",
            "                                                                 \n",
            " lstm (LSTM)                 (None, 300)               399600    \n",
            "                                                                 \n",
            " dropout_1 (Dropout)         (None, 300)               0         \n",
            "                                                                 \n",
            " dense (Dense)               (None, 1)                 301       \n",
            "                                                                 \n",
            "=================================================================\n",
            "Total params: 6,428,733\n",
            "Trainable params: 428,733\n",
            "Non-trainable params: 6,000,000\n",
            "_________________________________________________________________\n",
            "None\n"
          ]
        }
      ]
    },
    {
      "cell_type": "markdown",
      "source": [
        "**Training the model**"
      ],
      "metadata": {
        "id": "fU__bUaTAQ4I"
      }
    },
    {
      "cell_type": "code",
      "source": [
        "early_stop = EarlyStopping(monitor='val_loss', patience=3) #to prevent overfitting\n",
        "\n",
        "hist = model.fit(data_train, labels_train, \\\n",
        "        validation_data=(data_val, labels_val), \\\n",
        "        epochs=EPOCHS, batch_size=40, shuffle=True, \\\n",
        "        callbacks=[early_stop])"
      ],
      "metadata": {
        "colab": {
          "base_uri": "https://localhost:8080/"
        },
        "id": "JFz-zMrFyDU6",
        "outputId": "ac9996ac-5037-4c2d-bd6f-f8c197bfe486"
      },
      "execution_count": 27,
      "outputs": [
        {
          "output_type": "stream",
          "name": "stdout",
          "text": [
            "Epoch 1/10\n",
            "214/214 [==============================] - 84s 376ms/step - loss: 0.1513 - acc: 0.9502 - val_loss: 0.0367 - val_acc: 0.9923\n",
            "Epoch 2/10\n",
            "214/214 [==============================] - 81s 378ms/step - loss: 0.0393 - acc: 0.9909 - val_loss: 0.0537 - val_acc: 0.9888\n",
            "Epoch 3/10\n",
            "214/214 [==============================] - 82s 382ms/step - loss: 0.0320 - acc: 0.9925 - val_loss: 0.0449 - val_acc: 0.9895\n",
            "Epoch 4/10\n",
            "214/214 [==============================] - 81s 380ms/step - loss: 0.0270 - acc: 0.9936 - val_loss: 0.0368 - val_acc: 0.9909\n"
          ]
        }
      ]
    },
    {
      "cell_type": "markdown",
      "source": [
        "**Summaries of the model**"
      ],
      "metadata": {
        "id": "5PzcOhGyAYz_"
      }
    },
    {
      "cell_type": "code",
      "source": [
        "plt.plot(hist.history['acc'])\n",
        "plt.plot(hist.history['val_acc'])\n",
        "plt.title('model accuracy')\n",
        "plt.ylabel('accuracy')\n",
        "plt.xlabel('epoch')\n",
        "plt.legend(['train', 'validation'], loc='upper left')\n",
        "plt.show()"
      ],
      "metadata": {
        "colab": {
          "base_uri": "https://localhost:8080/",
          "height": 295
        },
        "id": "NT7QcRVS1iVt",
        "outputId": "b1843af2-2aa2-440b-f456-cfd1bcf1ab67"
      },
      "execution_count": 28,
      "outputs": [
        {
          "output_type": "display_data",
          "data": {
            "text/plain": [
              "<Figure size 432x288 with 1 Axes>"
            ],
            "image/png": "[encoded data removed]"
          },
          "metadata": {
            "needs_background": "light"
          }
        }
      ]
    },
    {
      "cell_type": "code",
      "source": [
        "plt.plot(hist.history['loss'])\n",
        "plt.plot(hist.history['val_loss'])\n",
        "plt.title('model loss')\n",
        "plt.ylabel('loss')\n",
        "plt.xlabel('epoch')\n",
        "plt.legend(['train', 'test'], loc='upper left')\n",
        "plt.show()"
      ],
      "metadata": {
        "colab": {
          "base_uri": "https://localhost:8080/",
          "height": 295
        },
        "id": "9aAvwMgI1yjB",
        "outputId": "849e67d0-1cbf-449a-90d7-7962ca11e851"
      },
      "execution_count": 29,
      "outputs": [
        {
          "output_type": "display_data",
          "data": {
            "text/plain": [
              "<Figure size 432x288 with 1 Axes>"
            ],
            "image/png": "[encoded data removed]"
          },
          "metadata": {
            "needs_background": "light"
          }
        }
      ]
    },
    {
      "cell_type": "code",
      "source": [
        "labels_pred = model.predict(data_test)\n",
        "labels_pred = np.round(labels_pred.flatten())\n",
        "accuracy = accuracy_score(labels_test, labels_pred)\n",
        "print(\"Accuracy: %.2f%%\" % (accuracy*100))"
      ],
      "metadata": {
        "colab": {
          "base_uri": "https://localhost:8080/"
        },
        "id": "kekBGHo011ry",
        "outputId": "34163424-8cdd-40f6-f8ea-f73d62868d36"
      },
      "execution_count": 30,
      "outputs": [
        {
          "output_type": "stream",
          "name": "stdout",
          "text": [
            "89/89 [==============================] - 8s 85ms/step\n",
            "Accuracy: 98.98%\n"
          ]
        }
      ]
    },
    {
      "cell_type": "code",
      "source": [
        "print(classification_report(labels_test, labels_pred))"
      ],
      "metadata": {
        "colab": {
          "base_uri": "https://localhost:8080/"
        },
        "id": "E8lxRtEt2A3g",
        "outputId": "ad35a4d1-9bfe-4273-9e8f-d783b30462ab"
      },
      "execution_count": 31,
      "outputs": [
        {
          "output_type": "stream",
          "name": "stdout",
          "text": [
            "              precision    recall  f1-score   support\n",
            "\n",
            "           0       0.99      1.00      0.99      2382\n",
            "           1       0.98      0.96      0.97       462\n",
            "\n",
            "    accuracy                           0.99      2844\n",
            "   macro avg       0.99      0.98      0.98      2844\n",
            "weighted avg       0.99      0.99      0.99      2844\n",
            "\n"
          ]
        }
      ]
    },
    {
      "cell_type": "markdown",
      "source": [
        "Most CNNs use ReLU at the activation layer and either sigmoid or tanh at the hidden layers. Building the model using tanh makes it more inaccurate. Above model gives us the best accuracy."
      ],
      "metadata": {
        "id": "naLdg1EvFbkb"
      }
    },
    {
      "cell_type": "code",
      "source": [
        "model2= Sequential()\n",
        "# Embedded layer\n",
        "model2.add(Embedding(len(embedding_matrix), EMBEDDING_DIM, weights=[embedding_matrix], \n",
        "                            input_length=MAX_SEQUENCE_LENGTH, trainable=False))\n",
        "# Convolutional Layer\n",
        "model2.add(Conv1D(filters=32, kernel_size=3, padding='same', activation='relu'))\n",
        "model2.add(MaxPooling1D(pool_size=2))\n",
        "model2.add(Dropout(0.2))\n",
        "# LSTM Layer\n",
        "model2.add(LSTM(300))\n",
        "model2.add(Dropout(0.2))\n",
        "model2.add(Dense(1, activation='tanh'))"
      ],
      "metadata": {
        "id": "7U5o6HzEAyZw"
      },
      "execution_count": 32,
      "outputs": []
    },
    {
      "cell_type": "code",
      "source": [
        "model2.compile(loss='binary_crossentropy', optimizer='nadam', metrics=['acc'])\n",
        "print(model2.summary())"
      ],
      "metadata": {
        "colab": {
          "base_uri": "https://localhost:8080/"
        },
        "id": "Go1bCg8lBFiJ",
        "outputId": "3de783de-51a7-4e9a-8bd5-4579bedcba39"
      },
      "execution_count": 33,
      "outputs": [
        {
          "output_type": "stream",
          "name": "stdout",
          "text": [
            "Model: \"sequential_1\"\n",
            "_________________________________________________________________\n",
            " Layer (type)                Output Shape              Param #   \n",
            "=================================================================\n",
            " embedding_1 (Embedding)     (None, 140, 300)          6000000   \n",
            "                                                                 \n",
            " conv1d_1 (Conv1D)           (None, 140, 32)           28832     \n",
            "                                                                 \n",
            " max_pooling1d_1 (MaxPooling  (None, 70, 32)           0         \n",
            " 1D)                                                             \n",
            "                                                                 \n",
            " dropout_2 (Dropout)         (None, 70, 32)            0         \n",
            "                                                                 \n",
            " lstm_1 (LSTM)               (None, 300)               399600    \n",
            "                                                                 \n",
            " dropout_3 (Dropout)         (None, 300)               0         \n",
            "                                                                 \n",
            " dense_1 (Dense)             (None, 1)                 301       \n",
            "                                                                 \n",
            "=================================================================\n",
            "Total params: 6,428,733\n",
            "Trainable params: 428,733\n",
            "Non-trainable params: 6,000,000\n",
            "_________________________________________________________________\n",
            "None\n"
          ]
        }
      ]
    },
    {
      "cell_type": "code",
      "source": [
        "early_stop = EarlyStopping(monitor='val_loss', patience=3) #to prevent overfitting if no improvement in 3 epochs\n",
        "\n",
        "hist = model2.fit(data_train, labels_train, \\\n",
        "        validation_data=(data_val, labels_val), \\\n",
        "        epochs=EPOCHS, batch_size=40, shuffle=True, \\\n",
        "        callbacks=[early_stop])"
      ],
      "metadata": {
        "colab": {
          "base_uri": "https://localhost:8080/"
        },
        "id": "545KSKPmBolk",
        "outputId": "3bdcff28-9361-4e99-e87e-e47528b10fc0"
      },
      "execution_count": 34,
      "outputs": [
        {
          "output_type": "stream",
          "name": "stdout",
          "text": [
            "Epoch 1/10\n",
            "214/214 [==============================] - 91s 397ms/step - loss: 0.1371 - acc: 0.9713 - val_loss: 0.0541 - val_acc: 0.9905\n",
            "Epoch 2/10\n",
            "214/214 [==============================] - 81s 380ms/step - loss: 0.0716 - acc: 0.9911 - val_loss: 0.0683 - val_acc: 0.9919\n",
            "Epoch 3/10\n",
            "214/214 [==============================] - 81s 378ms/step - loss: 0.0625 - acc: 0.9941 - val_loss: 0.0722 - val_acc: 0.9933\n",
            "Epoch 4/10\n",
            "214/214 [==============================] - 80s 375ms/step - loss: 0.1569 - acc: 0.9850 - val_loss: 0.0653 - val_acc: 0.9909\n"
          ]
        }
      ]
    },
    {
      "cell_type": "code",
      "source": [
        "plt.plot(hist.history['acc'])\n",
        "plt.plot(hist.history['val_acc'])\n",
        "plt.title('model accuracy')\n",
        "plt.ylabel('accuracy')\n",
        "plt.xlabel('epoch')\n",
        "plt.legend(['train', 'validation'], loc='upper left')\n",
        "plt.show()"
      ],
      "metadata": {
        "colab": {
          "base_uri": "https://localhost:8080/",
          "height": 295
        },
        "id": "zW2H-jGtESd4",
        "outputId": "be5b27e8-4d0c-4bef-9267-1038a8ebc930"
      },
      "execution_count": 35,
      "outputs": [
        {
          "output_type": "display_data",
          "data": {
            "text/plain": [
              "<Figure size 432x288 with 1 Axes>"
            ],
            "image/png": "[encoded data removed]"
          },
          "metadata": {
            "needs_background": "light"
          }
        }
      ]
    },
    {
      "cell_type": "code",
      "source": [
        "labels_pred = model2.predict(data_test)\n",
        "labels_pred = np.round(labels_pred.flatten())\n",
        "accuracy = accuracy_score(labels_test, labels_pred)\n",
        "print(\"Accuracy: %.2f%%\" % (accuracy*100))"
      ],
      "metadata": {
        "colab": {
          "base_uri": "https://localhost:8080/"
        },
        "id": "5tE1APD-Eg_h",
        "outputId": "011ea358-2873-4671-efd9-748f8647abcd"
      },
      "execution_count": 36,
      "outputs": [
        {
          "output_type": "stream",
          "name": "stdout",
          "text": [
            "89/89 [==============================] - 8s 87ms/step\n",
            "Accuracy: 69.30%\n"
          ]
        }
      ]
    },
    {
      "cell_type": "code",
      "source": [
        "model3= Sequential()\n",
        "# Embedded layer\n",
        "model3.add(Embedding(len(embedding_matrix), EMBEDDING_DIM, weights=[embedding_matrix], \n",
        "                            input_length=MAX_SEQUENCE_LENGTH, trainable=False))\n",
        "# Convolutional Layer\n",
        "model3.add(Conv1D(filters=32, kernel_size=3, padding='same', activation='relu'))\n",
        "model3.add(MaxPooling1D(pool_size=2))\n",
        "model3.add(Dropout(0.2))\n",
        "# LSTM Layer\n",
        "model3.add(LSTM(300))\n",
        "model3.add(Dropout(0.2))\n",
        "model3.add(Dense(1, activation='softmax'))"
      ],
      "metadata": {
        "id": "VElsIjvvzevP"
      },
      "execution_count": 37,
      "outputs": []
    },
    {
      "cell_type": "code",
      "source": [
        "model3.compile(loss='binary_crossentropy', optimizer='nadam', metrics=['acc'])\n",
        "print(model3.summary())"
      ],
      "metadata": {
        "colab": {
          "base_uri": "https://localhost:8080/"
        },
        "id": "Vb3DYXXBzeHJ",
        "outputId": "19df9133-4a4b-4619-bfc9-241ed28dbe20"
      },
      "execution_count": 38,
      "outputs": [
        {
          "output_type": "stream",
          "name": "stdout",
          "text": [
            "Model: \"sequential_2\"\n",
            "_________________________________________________________________\n",
            " Layer (type)                Output Shape              Param #   \n",
            "=================================================================\n",
            " embedding_2 (Embedding)     (None, 140, 300)          6000000   \n",
            "                                                                 \n",
            " conv1d_2 (Conv1D)           (None, 140, 32)           28832     \n",
            "                                                                 \n",
            " max_pooling1d_2 (MaxPooling  (None, 70, 32)           0         \n",
            " 1D)                                                             \n",
            "                                                                 \n",
            " dropout_4 (Dropout)         (None, 70, 32)            0         \n",
            "                                                                 \n",
            " lstm_2 (LSTM)               (None, 300)               399600    \n",
            "                                                                 \n",
            " dropout_5 (Dropout)         (None, 300)               0         \n",
            "                                                                 \n",
            " dense_2 (Dense)             (None, 1)                 301       \n",
            "                                                                 \n",
            "=================================================================\n",
            "Total params: 6,428,733\n",
            "Trainable params: 428,733\n",
            "Non-trainable params: 6,000,000\n",
            "_________________________________________________________________\n",
            "None\n"
          ]
        }
      ]
    },
    {
      "cell_type": "code",
      "source": [
        "early_stop = EarlyStopping(monitor='val_loss', patience=3) #to prevent overfitting if no improvement in 3 epochs\n",
        "\n",
        "hist = model3.fit(data_train, labels_train, \\\n",
        "        validation_data=(data_val, labels_val), \\\n",
        "        epochs=EPOCHS, batch_size=40, shuffle=True, \\\n",
        "        callbacks=[early_stop])"
      ],
      "metadata": {
        "colab": {
          "base_uri": "https://localhost:8080/"
        },
        "id": "0NzorkN95m3f",
        "outputId": "4c9ce894-5428-4bb4-bf10-664098593735"
      },
      "execution_count": 40,
      "outputs": [
        {
          "output_type": "stream",
          "name": "stdout",
          "text": [
            "Epoch 1/10\n",
            "214/214 [==============================] - 88s 396ms/step - loss: 0.1507 - acc: 0.1623 - val_loss: 0.0459 - val_acc: 0.1624\n",
            "Epoch 2/10\n",
            "214/214 [==============================] - 84s 390ms/step - loss: 0.0400 - acc: 0.1623 - val_loss: 0.0318 - val_acc: 0.1624\n",
            "Epoch 3/10\n",
            "214/214 [==============================] - 82s 383ms/step - loss: 0.0307 - acc: 0.1623 - val_loss: 0.0395 - val_acc: 0.1624\n",
            "Epoch 4/10\n",
            "214/214 [==============================] - 87s 407ms/step - loss: 0.0266 - acc: 0.1623 - val_loss: 0.0370 - val_acc: 0.1624\n",
            "Epoch 5/10\n",
            "214/214 [==============================] - 87s 406ms/step - loss: 0.0219 - acc: 0.1623 - val_loss: 0.0410 - val_acc: 0.1624\n"
          ]
        }
      ]
    },
    {
      "cell_type": "code",
      "source": [
        "labels_pred = model3.predict(data_test)\n",
        "labels_pred = np.round(labels_pred.flatten())\n",
        "accuracy = accuracy_score(labels_test, labels_pred)\n",
        "print(\"Accuracy: %.2f%%\" % (accuracy*100))"
      ],
      "metadata": {
        "colab": {
          "base_uri": "https://localhost:8080/"
        },
        "id": "cp0R8ARl7k7J",
        "outputId": "f8e7371b-d763-4401-fc97-9b4518780b32"
      },
      "execution_count": 41,
      "outputs": [
        {
          "output_type": "stream",
          "name": "stdout",
          "text": [
            "89/89 [==============================] - 8s 85ms/step\n",
            "Accuracy: 16.24%\n"
          ]
        }
      ]
    },
    {
      "cell_type": "markdown",
      "source": [
        "**Comparing it with a Logistic Regression Model** (most common model used for binary classification)"
      ],
      "metadata": {
        "id": "g0uFOl7dFpKs"
      }
    },
    {
      "cell_type": "code",
      "source": [
        "class LogReg:\n",
        "    def __init__(self, l_rate, epochs, n_features):\n",
        "        self.l_rate = l_rate\n",
        "        self.epochs = epochs\n",
        "        self.coef = [0.0] * n_features\n",
        "        self.bias = 0.0\n",
        "\n",
        "    def sigmoid(self, score, threshold=20.0):\n",
        "        if abs(score) > threshold:\n",
        "            score = threshold * sign(score)\n",
        "        activation = exp(score)\n",
        "        return activation / (1.0 + activation)\n",
        "\n",
        "    def predict(self, features):\n",
        "        value = sum([features[i]*self.coef[i] for i in range(len(features))]) + self.bias\n",
        "        return self.sigmoid(value)\n",
        "\n",
        "    def sg_update(self, features, label):\n",
        "        yhat = self.predict(features)\n",
        "        e = label - yhat\n",
        "        self.bias = self.bias + self.l_rate * e * yhat * (1-yhat)\n",
        "        for i in range(len(features)):\n",
        "            self.coef[i] = self.coef[i] + self.l_rate * e * yhat * (1-yhat) * features[i]\n",
        "        return\n",
        "\n",
        "    def train(self, X, y):\n",
        "        for epoch in range(self.epochs):\n",
        "            for features, label in zip(X, y):\n",
        "                self.sg_update(features, label)\n",
        "        return self.bias, self.coef\n",
        "\n",
        "def get_accuracy(y_bar, y_pred):\n",
        "    correct = 0\n",
        "    for i in range(len(y_bar)):\n",
        "        if y_bar[i] == y_pred[i]:\n",
        "            correct += 1\n",
        "    accuracy = (correct / len(y_bar)) * 100.0\n",
        "    return accuracy\n",
        "#training \n",
        "logreg = LogReg(LEARNING_RATE, EPOCHS, len(data_train[0]))\n",
        "bias_logreg, weights_logreg = logreg.train(data_train, labels_train)\n",
        "y_logistic = [round(logreg.predict(example)) for example in data_test]\n",
        "#summary\n",
        "accuracy_logistic = get_accuracy(y_logistic, labels_test)\n",
        "print('Logistic Regression Accuracy: {:0.2f}'.format(accuracy_logistic))"
      ],
      "metadata": {
        "colab": {
          "base_uri": "https://localhost:8080/"
        },
        "id": "jbbewi3lEzZO",
        "outputId": "65b05af0-7418-479c-a22a-cc86e3bb031c"
      },
      "execution_count": null,
      "outputs": [
        {
          "output_type": "stream",
          "name": "stdout",
          "text": [
            "Logistic Regression Accuracy: 83.76\n"
          ]
        }
      ]
    },
    {
      "cell_type": "code",
      "source": [
        "model4 = Sequential()\n",
        "# Embedded layer\n",
        "model4.add(Embedding(len(embedding_matrix), EMBEDDING_DIM, weights=[embedding_matrix], \n",
        "                            input_length=MAX_SEQUENCE_LENGTH, trainable=False))\n",
        "# Convolutional Layer\n",
        "model4.add(Conv1D(filters=32, kernel_size=3, padding='same', activation='relu'))\n",
        "model4.add(MaxPooling1D(pool_size=2))\n",
        "model4.add(Dropout(0.2))\n",
        "# LSTM Layer\n",
        "model4.add(LSTM(300))\n",
        "model4.add(Dropout(0.2))\n",
        "model4.add(Dense(1, activation='sigmoid'))"
      ],
      "metadata": {
        "id": "K7AztdHz9mzm"
      },
      "execution_count": 42,
      "outputs": []
    },
    {
      "cell_type": "code",
      "source": [
        "model4.compile(loss='hinge', optimizer='adam', metrics=['accuracy'])\n",
        "print(model.summary())"
      ],
      "metadata": {
        "colab": {
          "base_uri": "https://localhost:8080/"
        },
        "id": "VTE--UwL-Ao_",
        "outputId": "1a0153f5-cde9-4546-e701-cb3f78e6c7cc"
      },
      "execution_count": 43,
      "outputs": [
        {
          "output_type": "stream",
          "name": "stdout",
          "text": [
            "Model: \"sequential\"\n",
            "_________________________________________________________________\n",
            " Layer (type)                Output Shape              Param #   \n",
            "=================================================================\n",
            " embedding (Embedding)       (None, 140, 300)          6000000   \n",
            "                                                                 \n",
            " conv1d (Conv1D)             (None, 140, 32)           28832     \n",
            "                                                                 \n",
            " max_pooling1d (MaxPooling1D  (None, 70, 32)           0         \n",
            " )                                                               \n",
            "                                                                 \n",
            " dropout (Dropout)           (None, 70, 32)            0         \n",
            "                                                                 \n",
            " lstm (LSTM)                 (None, 300)               399600    \n",
            "                                                                 \n",
            " dropout_1 (Dropout)         (None, 300)               0         \n",
            "                                                                 \n",
            " dense (Dense)               (None, 1)                 301       \n",
            "                                                                 \n",
            "=================================================================\n",
            "Total params: 6,428,733\n",
            "Trainable params: 428,733\n",
            "Non-trainable params: 6,000,000\n",
            "_________________________________________________________________\n",
            "None\n"
          ]
        }
      ]
    },
    {
      "cell_type": "code",
      "source": [
        "early_stop = EarlyStopping(monitor='val_loss', patience=3)\n",
        "\n",
        "hist = model4.fit(data_train, labels_train, \\\n",
        "        validation_data=(data_val, labels_val), \\\n",
        "        epochs=EPOCHS, batch_size=40, shuffle=True, \\\n",
        "        callbacks=[early_stop])"
      ],
      "metadata": {
        "colab": {
          "base_uri": "https://localhost:8080/"
        },
        "id": "Yr3A6uhr_jqk",
        "outputId": "e361b735-50e9-450c-d89c-0da879c3db5f"
      },
      "execution_count": 44,
      "outputs": [
        {
          "output_type": "stream",
          "name": "stdout",
          "text": [
            "Epoch 1/10\n",
            "214/214 [==============================] - 89s 404ms/step - loss: 1.0086 - accuracy: 0.8362 - val_loss: 1.0000 - val_accuracy: 0.8376\n",
            "Epoch 2/10\n",
            "214/214 [==============================] - 86s 400ms/step - loss: 1.0000 - accuracy: 0.8377 - val_loss: 1.0000 - val_accuracy: 0.8376\n",
            "Epoch 3/10\n",
            "214/214 [==============================] - 86s 401ms/step - loss: 1.0000 - accuracy: 0.8377 - val_loss: 1.0000 - val_accuracy: 0.8376\n",
            "Epoch 4/10\n",
            "214/214 [==============================] - 87s 408ms/step - loss: 1.0000 - accuracy: 0.8377 - val_loss: 1.0000 - val_accuracy: 0.8376\n"
          ]
        }
      ]
    },
    {
      "cell_type": "code",
      "source": [
        "labels_pred = model4.predict(data_test)\n",
        "labels_pred = np.round(labels_pred.flatten())\n",
        "accuracy = accuracy_score(labels_test, labels_pred)\n",
        "print(\"Accuracy: %.2f%%\" % (accuracy*100))"
      ],
      "metadata": {
        "colab": {
          "base_uri": "https://localhost:8080/"
        },
        "id": "N5_jMb1iBZYS",
        "outputId": "edebb752-e0a3-4a1f-94da-c6e577a211d7"
      },
      "execution_count": 46,
      "outputs": [
        {
          "output_type": "stream",
          "name": "stdout",
          "text": [
            "89/89 [==============================] - 9s 92ms/step\n",
            "Accuracy: 83.76%\n"
          ]
        }
      ]
    }
  ]
}